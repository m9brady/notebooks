{
 "cells": [
  {
   "cell_type": "markdown",
   "metadata": {},
   "source": [
    "## MODIS LAI 500m HDF to GeoTIFF Mosaic\n",
    "\n",
    "Based on MOD15A2H files"
   ]
  },
  {
   "cell_type": "code",
   "execution_count": null,
   "metadata": {},
   "outputs": [],
   "source": [
    "import os\n",
    "from pathlib import Path\n",
    "from json import dumps"
   ]
  },
  {
   "cell_type": "code",
   "execution_count": null,
   "metadata": {},
   "outputs": [],
   "source": [
    "src_data = Path('<path-to-modis-hdfs>')\n",
    "tile_dir = Path('<path-to-output-folder') / 'tiles'\n",
    "mos_dir = tile_dir.parent / 'mosaics'\n",
    "tile_dir.mkdir(parents=True, exist_ok=true)\n",
    "mos_dir.mkdir(exist_ok=True)"
   ]
  },
  {
   "cell_type": "code",
   "execution_count": null,
   "metadata": {},
   "outputs": [],
   "source": [
    "hdfs = sorted(src_data.glob('*.hdf'))\n",
    "print('n_datasets: %d' % len(hdfs))\n",
    "print('example: %s' % hdfs[0])"
   ]
  },
  {
   "cell_type": "code",
   "execution_count": null,
   "metadata": {},
   "outputs": [],
   "source": [
    "unique_tsteps = list(set([x.stem.split('.')[1] for x in hdfs]))\n",
    "print('unique tsteps: %d' % len(unique_tsteps))\n",
    "print('example: %s' % unique_tsteps[0])"
   ]
  },
  {
   "cell_type": "markdown",
   "metadata": {},
   "source": [
    "### convert all hdfs to tifs"
   ]
  },
  {
   "cell_type": "code",
   "execution_count": null,
   "metadata": {},
   "outputs": [],
   "source": [
    "tifs = []\n",
    "for hdf5 in hdfs:\n",
    "    sd = f'HDF4_EOS:EOS_GRID:\"{str(hdf5)}\":MOD_Grid_MOD15A2H:Lai_500m'\n",
    "    tif = out_data / (hdf5.stem + '.tif')\n",
    "    if not tif.exists():\n",
    "        tif_str = str(tif)\n",
    "        stdout = !gdalwarp -t_srs \"+proj=latlong +ellps=sphere\" $sd $tif_str\n",
    "    tifs.append(str(tif))\n",
    "    print('.', end='', flush=True)"
   ]
  },
  {
   "cell_type": "markdown",
   "metadata": {},
   "source": [
    "### create mosaics based on timestep"
   ]
  },
  {
   "cell_type": "code",
   "execution_count": null,
   "metadata": {},
   "outputs": [],
   "source": [
    "mosaics = {\n",
    "    tstep: [t for t in tifs if t.stem.split('.')[1] == tstep]\n",
    "    for tstep in unique_tsteps\n",
    "}"
   ]
  },
  {
   "cell_type": "code",
   "execution_count": null,
   "metadata": {},
   "outputs": [],
   "source": [
    "print(dumps({k:len(v) for k,v in mosaics.items()}, indent=2))"
   ]
  },
  {
   "cell_type": "code",
   "execution_count": null,
   "metadata": {},
   "outputs": [],
   "source": [
    "for key in mosaics:\n",
    "    vrtname = out_data / f'MOD15A2H.{key}.mosaic.vrt'\n",
    "    mosname = mos_dir / (vrtname.stem + '.tif')\n",
    "    vrtname_str = str(vrtname)\n",
    "    mosname_str = str(mosname)\n",
    "    if not vrtname.exists():\n",
    "        inputs = ' '.join([str(f) for f in mosaics[key]])\n",
    "        stdout_vrt = !gdalbuildvrt $vrtname_str $inputs\n",
    "    if not mosname.exists():\n",
    "        stdout_mos = !gdal_translate -of GTiff -co \"TILED=YES\" $vrtname_str $mosname_str\n",
    "    print(mosname.name)"
   ]
  }
 ],
 "metadata": {
  "kernelspec": {
   "display_name": "Python [conda env:py3-geovis]",
   "language": "python",
   "name": "conda-env-py3-geovis-py"
  },
  "language_info": {
   "codemirror_mode": {
    "name": "ipython",
    "version": 3
   },
   "file_extension": ".py",
   "mimetype": "text/x-python",
   "name": "python",
   "nbconvert_exporter": "python",
   "pygments_lexer": "ipython3",
   "version": "3.7.6"
  }
 },
 "nbformat": 4,
 "nbformat_minor": 4
}
